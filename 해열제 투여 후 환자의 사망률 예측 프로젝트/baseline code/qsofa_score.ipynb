{
 "cells": [
  {
   "cell_type": "markdown",
   "id": "abab8167",
   "metadata": {},
   "source": [
    "### 1.SBP,Respiration score계산\n",
    "- SBP / espiration"
   ]
  },
  {
   "cell_type": "code",
   "execution_count": null,
   "id": "a2d5beff",
   "metadata": {},
   "outputs": [],
   "source": [
    "import pandas as pd\n",
    "import numpy as np\n",
    "file='/save/qsofa_file/mimic_m2_case2_p_qSOFA_SBP,Respiration.csv'\n",
    "sbp_respiratory=pd.read_csv(file, sep=',', encoding='CP949')\n",
    "sbp_respiratory"
   ]
  },
  {
   "cell_type": "code",
   "execution_count": null,
   "id": "8fd6a505",
   "metadata": {},
   "outputs": [],
   "source": [
    "sbp_respiratory= sbp_respiratory.replace({np.nan:None})"
   ]
  },
  {
   "cell_type": "code",
   "execution_count": null,
   "id": "260e9ee7",
   "metadata": {},
   "outputs": [],
   "source": [
    "def qsofa_sbp_respiratory_score(table):\n",
    "\n",
    "    for i, row in table.iterrows(): \n",
    "        \n",
    "        #SBP\n",
    "        if table.at[i,'sbp'] <  90:\n",
    "            table.at[i,'SBP_score'] =1\n",
    "        else:\n",
    "            table.at[i,'SBP_score'] =0\n",
    "\n",
    "        #Respiratory rate\n",
    "        if table.at[i,'respiratory_rate'] >= 22:\n",
    "            table.at[i,'Respiratory_score'] =1\n",
    "        else:\n",
    "            table.at[i,'Respiratory_score'] =0\n",
    "            \n",
    "    table['sbp_respiratory_total'] = table['SBP_score'] + table['Respiratory_score']"
   ]
  },
  {
   "cell_type": "code",
   "execution_count": null,
   "id": "c53b2742",
   "metadata": {},
   "outputs": [],
   "source": [
    "qsofa_sbp_respiratory_score(sbp_respiratory)\n",
    "sbp_respiratory"
   ]
  },
  {
   "cell_type": "code",
   "execution_count": null,
   "id": "3b783de2",
   "metadata": {},
   "outputs": [],
   "source": [
    "sbp_respiratory.to_csv(('QSOFA_SCORE_sbp_respiratory.csv'), index=False)"
   ]
  },
  {
   "cell_type": "markdown",
   "id": "1461f02a",
   "metadata": {},
   "source": [
    "### 2.GCS계산\n",
    "- gcs"
   ]
  },
  {
   "cell_type": "code",
   "execution_count": null,
   "id": "6c8a282e",
   "metadata": {},
   "outputs": [],
   "source": [
    "file='/save/sofa_file/mimic_m2_case2_p_Central nervous system.csv'\n",
    "gcs=pd.read_csv(file, sep=',', encoding='CP949')\n",
    "gcs"
   ]
  },
  {
   "cell_type": "code",
   "execution_count": null,
   "id": "4cc581e7",
   "metadata": {},
   "outputs": [],
   "source": [
    "gcs= gcs.replace({np.nan:None})"
   ]
  },
  {
   "cell_type": "code",
   "execution_count": null,
   "id": "3e4cfa1b",
   "metadata": {},
   "outputs": [],
   "source": [
    "def qsofa_gcs_score(table):\n",
    "\n",
    "    for i, row in table.iterrows(): \n",
    "        if table.at[i,'sum'] <=  13:\n",
    "            table.at[i,'gcs_score'] =1\n",
    "        else:\n",
    "            table.at[i,'gcs_score'] =0"
   ]
  },
  {
   "cell_type": "code",
   "execution_count": null,
   "id": "01052861",
   "metadata": {},
   "outputs": [],
   "source": [
    "qsofa_gcs_score(gcs)\n",
    "gcs"
   ]
  },
  {
   "cell_type": "code",
   "execution_count": null,
   "id": "1c6d6dc8",
   "metadata": {},
   "outputs": [],
   "source": [
    "gcs.to_csv(('QSOFA_SCORE_gcs.csv'), index=False)"
   ]
  },
  {
   "cell_type": "markdown",
   "id": "82865641",
   "metadata": {},
   "source": [
    "## SOFA_SCORE details"
   ]
  },
  {
   "cell_type": "markdown",
   "id": "45803e8f",
   "metadata": {},
   "source": [
    "### 1.SBP,Respiration score"
   ]
  },
  {
   "cell_type": "code",
   "execution_count": null,
   "id": "8411bddc",
   "metadata": {},
   "outputs": [],
   "source": [
    "file='/save/QSOFA_SCORE_sbp_respiratory.csv'\n",
    "QSOFA_SCORE_sbp_respiratory=pd.read_csv(file, sep=',', encoding='CP949')\n",
    "QSOFA_SCORE_sbp_respiratory['SBP_score'].value_counts()"
   ]
  },
  {
   "cell_type": "code",
   "execution_count": null,
   "id": "5dd1918c",
   "metadata": {},
   "outputs": [],
   "source": [
    "QSOFA_SCORE_sbp_respiratory['Respiratory_score'].value_counts()"
   ]
  },
  {
   "cell_type": "markdown",
   "id": "2ce07af1",
   "metadata": {},
   "source": [
    "### 2.  GCS score"
   ]
  },
  {
   "cell_type": "code",
   "execution_count": null,
   "id": "a67988f2",
   "metadata": {},
   "outputs": [],
   "source": [
    "file='/save/QSOFA_SCORE_gcs.csv'\n",
    "QSOFA_SCORE_gcs=pd.read_csv(file, sep=',', encoding='CP949')\n",
    "QSOFA_SCORE_gcs['gcs_score'].value_counts()"
   ]
  },
  {
   "cell_type": "markdown",
   "id": "d0579627",
   "metadata": {},
   "source": [
    "### SOFA SCORE 점수 합산"
   ]
  },
  {
   "cell_type": "code",
   "execution_count": null,
   "id": "c8f5ddb0",
   "metadata": {},
   "outputs": [],
   "source": [
    "merge_1 = pd.merge(QSOFA_SCORE_sbp_respiratory[['subject_id','hadm_id','bp_group','SBP_score','Respiratory_score']]\n",
    "                   ,QSOFA_SCORE_gcs[['subject_id','gcs_score']],how='outer',on='subject_id')\n",
    "merge_1= merge_1.replace({np.nan:0})\n",
    "\n",
    "merge_1.loc[:,'total'] = merge_1.loc[:,'SBP_score':'gcs_score'].sum(axis=1)\n",
    "merge_1"
   ]
  },
  {
   "cell_type": "code",
   "execution_count": null,
   "id": "7cc5d733",
   "metadata": {},
   "outputs": [],
   "source": [
    "merge_1.to_csv(('QSOFA_SCORE_TOTAL.csv'), index=False)"
   ]
  },
  {
   "cell_type": "markdown",
   "id": "8f3ee23f",
   "metadata": {},
   "source": []
  }
 ],
 "metadata": {
  "kernelspec": {
   "display_name": "Python 3 (ipykernel)",
   "language": "python",
   "name": "python3"
  },
  "language_info": {
   "codemirror_mode": {
    "name": "ipython",
    "version": 3
   },
   "file_extension": ".py",
   "mimetype": "text/x-python",
   "name": "python",
   "nbconvert_exporter": "python",
   "pygments_lexer": "ipython3",
   "version": "3.8.10"
  }
 },
 "nbformat": 4,
 "nbformat_minor": 5
}
