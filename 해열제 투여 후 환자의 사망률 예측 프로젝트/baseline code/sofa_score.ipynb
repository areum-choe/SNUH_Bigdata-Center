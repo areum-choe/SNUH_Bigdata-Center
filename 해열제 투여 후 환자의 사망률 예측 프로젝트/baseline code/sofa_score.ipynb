{
 "cells": [
  {
   "cell_type": "markdown",
   "id": "d3f54520",
   "metadata": {},
   "source": [
    "### 1.Respiratory score계산\n",
    "- Pao2_FiO2 / ventilation"
   ]
  },
  {
   "cell_type": "code",
   "execution_count": null,
   "id": "00fbf398",
   "metadata": {},
   "outputs": [],
   "source": [
    "import pandas as pd\n",
    "import numpy as np\n",
    "file='/save/sofa_file/mimic_m2_case2_p_Respiration.csv'\n",
    "Respiratory=pd.read_csv(file, sep=',', encoding='CP949')\n",
    "Respiratory"
   ]
  },
  {
   "cell_type": "code",
   "execution_count": null,
   "id": "21d86df3",
   "metadata": {},
   "outputs": [],
   "source": [
    "def Respiratory_score(table):\n",
    "\n",
    "     # Respiratory score\n",
    "    for i, row in table.iterrows():\n",
    "        if table.at[i,'vent']=='Ventilation':\n",
    "            if table.at[i,'pao2_fio2'] > 100 and  table.at[i,'pao2_fio2'] < 200:\n",
    "                table.at[i,'Respiration_score']=3\n",
    "            elif table.at[i,'pao2_fio2'] < 100:\n",
    "                table.at[i,'Respiration_score']=4\n",
    "            else:\n",
    "                table.at[i,'Respiration_score'] = 0\n",
    "        else:\n",
    "            if table.at[i,'pao2_fio2'] >= 400:\n",
    "                table.at[i,'Respiration_score']=0\n",
    "            elif table.at[i,'pao2_fio2'] >= 300:\n",
    "                table.at[i,'Respiration_score']=1\n",
    "            elif table.at[i,'pao2_fio2'] < 300:\n",
    "                table.at[i,'Respiration_score']=2\n",
    "            else:\n",
    "                table.at[i,'Respiration_score'] = None"
   ]
  },
  {
   "cell_type": "code",
   "execution_count": null,
   "id": "ea2158b3",
   "metadata": {},
   "outputs": [],
   "source": [
    "Respiratory_score(Respiratory)\n",
    "Respiratory"
   ]
  },
  {
   "cell_type": "code",
   "execution_count": null,
   "id": "c3ae29a1",
   "metadata": {},
   "outputs": [],
   "source": [
    "Respiratory.to_csv(('SOFA_SCORE_Respiratory.csv'), index=False)"
   ]
  },
  {
   "cell_type": "markdown",
   "id": "53219ff3",
   "metadata": {},
   "source": [
    "### 2. Cardiovascular score계산\n",
    "- mbp / dopamine / epinephire / norepinephire"
   ]
  },
  {
   "cell_type": "code",
   "execution_count": null,
   "id": "4b81ae96",
   "metadata": {},
   "outputs": [],
   "source": [
    "file='/save/sofa_file/mimic_m2_case2_p_Cardiovascular.csv'\n",
    "Cardiovascular=pd.read_csv(file, sep=',', encoding='CP949')\n",
    "Cardiovascular"
   ]
  },
  {
   "cell_type": "code",
   "execution_count": null,
   "id": "e78b2967",
   "metadata": {},
   "outputs": [],
   "source": [
    "Cardiovascular= Cardiovascular.replace({np.nan:None})\n",
    "\n",
    "def Cardiovascular_score(table):\n",
    "\n",
    "    # Cardiovascular score\n",
    "    for i, row in table.iterrows(): \n",
    "        if table.at[i,'vasopressor'] == None:\n",
    "            if table.at[i,'mbp'] == None:\n",
    "                table.at[i,'Cardiovascular_score'] = None\n",
    "            elif table.at[i,'mbp'] >= 70:\n",
    "                table.at[i,'Cardiovascular_score'] = 0\n",
    "            else:\n",
    "                table.at[i,'Cardiovascular_score'] = 1\n",
    "                \n",
    "        elif table.at[i,'vasopressor']=='dopamine' or  table.at[i,'vasopressor']=='dobutamine':\n",
    "            table.at[i,'Cardiovascular_score'] = 2\n",
    "            \n",
    "        else:\n",
    "            table.at[i,'Cardiovascular_score'] = 3"
   ]
  },
  {
   "cell_type": "code",
   "execution_count": null,
   "id": "10028ddb",
   "metadata": {},
   "outputs": [],
   "source": [
    "Cardiovascular_score(Cardiovascular)\n",
    "Cardiovascular"
   ]
  },
  {
   "cell_type": "code",
   "execution_count": null,
   "id": "bbf987f7",
   "metadata": {},
   "outputs": [],
   "source": [
    "Cardiovascular.to_csv(('SOFA_SCORE_Cardiovascular.csv'), index=False)"
   ]
  },
  {
   "cell_type": "markdown",
   "id": "c6e7e306",
   "metadata": {},
   "source": [
    "### 3. Central nervous system score계산\n",
    "- gcs"
   ]
  },
  {
   "cell_type": "code",
   "execution_count": null,
   "id": "2d227443",
   "metadata": {},
   "outputs": [],
   "source": [
    "file='/save/sofa_file/mimic_m2_case2_p_Central nervous system.csv'\n",
    "GCS=pd.read_csv(file, sep=',', encoding='CP949')\n",
    "GCS"
   ]
  },
  {
   "cell_type": "code",
   "execution_count": null,
   "id": "355db8ff",
   "metadata": {},
   "outputs": [],
   "source": [
    "GCS= GCS.replace({np.nan:None})\n",
    "\n",
    "def GCS_score(table):\n",
    "\n",
    "    # GCS score\n",
    "    for i, row in table.iterrows(): \n",
    "        if table.at[i,'sum'] == None:\n",
    "            table.at[i,'GCS_score'] = None\n",
    "        elif table.at[i,'sum'] >= 15:\n",
    "            table.at[i,'GCS_score'] = 0\n",
    "        elif table.at[i,'sum'] >= 13:\n",
    "            table.at[i,'GCS_score'] = 1\n",
    "        elif table.at[i,'sum'] >=10: \n",
    "            table.at[i,'GCS_score'] = 2 \n",
    "        elif table.at[i,'sum'] >=6:\n",
    "            table.at[i,'GCS_score'] = 3\n",
    "        else:\n",
    "            table.at[i,'GCS_score'] = 4"
   ]
  },
  {
   "cell_type": "code",
   "execution_count": null,
   "id": "dd625755",
   "metadata": {},
   "outputs": [],
   "source": [
    "GCS_score(GCS)\n",
    "GCS"
   ]
  },
  {
   "cell_type": "code",
   "execution_count": null,
   "id": "27f79805",
   "metadata": {},
   "outputs": [],
   "source": [
    "GCS.to_csv(('SOFA_SCORE_GCS.csv'), index=False)"
   ]
  },
  {
   "cell_type": "markdown",
   "id": "a6b40400",
   "metadata": {},
   "source": [
    "### 4. Liver score계산\n",
    "- bilirubin"
   ]
  },
  {
   "cell_type": "code",
   "execution_count": null,
   "id": "bc91eae7",
   "metadata": {},
   "outputs": [],
   "source": [
    "file='/save/sofa_file/mimic_m2_case2_p_Liver.csv'\n",
    "Liver=pd.read_csv(file, sep=',', encoding='CP949')\n",
    "Liver"
   ]
  },
  {
   "cell_type": "code",
   "execution_count": null,
   "id": "406ed88c",
   "metadata": {},
   "outputs": [],
   "source": [
    "Liver= Liver.replace({np.nan:None})\n",
    "\n",
    "def Liver_score(table):\n",
    "    \n",
    "    # Liver score\n",
    "    for i, row in table.iterrows():\n",
    "        if table.at[i,'bilirubin'] == None:\n",
    "            table.at[i,'Liver_socre'] = None\n",
    "        elif table.at[i,'bilirubin'] < 1.2:\n",
    "            table.at[i,'Liver_socre'] = 0\n",
    "        elif table.at[i,'bilirubin'] < 2:\n",
    "            table.at[i,'Liver_socre'] = 1\n",
    "        elif table.at[i,'bilirubin'] < 6: \n",
    "            table.at[i,'Liver_socre'] = 2 \n",
    "        elif table.at[i,'bilirubin'] < 12:\n",
    "            table.at[i,'Liver_socre'] = 3\n",
    "        else:\n",
    "            table.at[i,'Liver_socre'] = 4"
   ]
  },
  {
   "cell_type": "code",
   "execution_count": null,
   "id": "364e8553",
   "metadata": {},
   "outputs": [],
   "source": [
    "Liver_score(Liver)\n",
    "Liver"
   ]
  },
  {
   "cell_type": "code",
   "execution_count": null,
   "id": "7df9e681",
   "metadata": {},
   "outputs": [],
   "source": [
    "Liver.to_csv(('SOFA_SCORE_Liver.csv'), index=False)"
   ]
  },
  {
   "cell_type": "markdown",
   "id": "3cba450c",
   "metadata": {},
   "source": [
    "### 5. Coagulation score계산\n",
    "- platelets"
   ]
  },
  {
   "cell_type": "code",
   "execution_count": null,
   "id": "770d84cd",
   "metadata": {},
   "outputs": [],
   "source": [
    "file='/save/sofa_file/mimic_m2_case2_p_Coagulation.csv'\n",
    "Coagulation=pd.read_csv(file, sep=',', encoding='CP949')\n",
    "Coagulation"
   ]
  },
  {
   "cell_type": "code",
   "execution_count": null,
   "id": "a26d5f59",
   "metadata": {},
   "outputs": [],
   "source": [
    "Coagulation= Coagulation.replace({np.nan:None})\n",
    "\n",
    "def Coagulation_score(table):\n",
    "    \n",
    "    # Coagulation score\n",
    "    for i, row in table.iterrows():\n",
    "\n",
    "        if table.at[i,'platelets'] == None:\n",
    "            table.at[i,'Coagulation_score'] = None\n",
    "        elif table.at[i,'platelets'] >= 150:\n",
    "            table.at[i,'Coagulation_score'] = 0\n",
    "        elif table.at[i,'platelets'] >= 100:\n",
    "            table.at[i,'Coagulation_score'] = 1\n",
    "        elif table.at[i,'platelets'] >= 50: \n",
    "            table.at[i,'Coagulation_score'] = 2 \n",
    "        elif table.at[i,'platelets'] >= 20:\n",
    "            table.at[i,'Coagulation_score'] = 3\n",
    "        else:\n",
    "            table.at[i,'Coagulation_score'] = 4"
   ]
  },
  {
   "cell_type": "code",
   "execution_count": null,
   "id": "199f0ac7",
   "metadata": {},
   "outputs": [],
   "source": [
    "Coagulation_score(Coagulation)\n",
    "Coagulation"
   ]
  },
  {
   "cell_type": "code",
   "execution_count": null,
   "id": "dd4154b8",
   "metadata": {},
   "outputs": [],
   "source": [
    "Coagulation.to_csv(('SOFA_SCORE_Coagulation.csv'), index=False)"
   ]
  },
  {
   "cell_type": "markdown",
   "id": "6e02a878",
   "metadata": {},
   "source": [
    "### 6. Renal score계산\n",
    "- cratinine, urine output"
   ]
  },
  {
   "cell_type": "code",
   "execution_count": null,
   "id": "62d02406",
   "metadata": {},
   "outputs": [],
   "source": [
    "file='/save/sofa_file/mimic_m2_case2_p_Renal.csv'\n",
    "Renal=pd.read_csv(file, sep=',', encoding='CP949')\n",
    "Renal"
   ]
  },
  {
   "cell_type": "code",
   "execution_count": null,
   "id": "f0a6fa26",
   "metadata": {},
   "outputs": [],
   "source": [
    "Renal= Renal.replace({np.nan:None})\n",
    "\n",
    "def Renal_score(table):\n",
    "    \n",
    "    # Renal socre\n",
    "    for i, row in table.iterrows():\n",
    "        if table.at[i,'creatinine'] == None:\n",
    "            table.at[i,'Renal_socre'] = None\n",
    "        elif table.at[i,'creatinine'] < 1.2:\n",
    "            table.at[i,'Renal_socre'] = 0\n",
    "        elif table.at[i,'creatinine'] < 2:\n",
    "            table.at[i,'Renal_socre'] = 1\n",
    "        elif table.at[i,'creatinine'] < 3.5: \n",
    "            table.at[i,'Renal_socre'] = 2 \n",
    "        elif table.at[i,'creatinine'] < 5:\n",
    "            table.at[i,'Renal_socre'] = 3\n",
    "        else :\n",
    "            table.at[i,'Renal_socre'] = 4"
   ]
  },
  {
   "cell_type": "code",
   "execution_count": null,
   "id": "5f2f2633",
   "metadata": {},
   "outputs": [],
   "source": [
    "Renal_score(Renal)\n",
    "Renal"
   ]
  },
  {
   "cell_type": "code",
   "execution_count": null,
   "id": "9dc8ff58",
   "metadata": {},
   "outputs": [],
   "source": [
    "Renal.to_csv(('SOFA_SCORE_Renal.csv'), index=False)"
   ]
  },
  {
   "cell_type": "markdown",
   "id": "37c98f1e",
   "metadata": {},
   "source": [
    "## SOFA_SCORE details"
   ]
  },
  {
   "cell_type": "markdown",
   "id": "3a827f3b",
   "metadata": {},
   "source": [
    "### 1. Respiratory"
   ]
  },
  {
   "cell_type": "code",
   "execution_count": null,
   "id": "8d289651",
   "metadata": {},
   "outputs": [],
   "source": [
    "file='/save/SOFA_SCORE_Respiratory.csv'\n",
    "SOFA_SCORE_Respiratory=pd.read_csv(file, sep=',', encoding='CP949')\n",
    "SOFA_SCORE_Respiratory"
   ]
  },
  {
   "cell_type": "code",
   "execution_count": null,
   "id": "1d947921",
   "metadata": {},
   "outputs": [],
   "source": [
    "SOFA_SCORE_Respiratory['Respiration_score'].value_counts()"
   ]
  },
  {
   "cell_type": "code",
   "execution_count": null,
   "id": "5c505a6b",
   "metadata": {},
   "outputs": [],
   "source": [
    "SOFA_SCORE_Respiratory['Respiration_score'].isnull().sum()"
   ]
  },
  {
   "cell_type": "markdown",
   "id": "4a3712b4",
   "metadata": {},
   "source": [
    "### 2. Cardiovascular score"
   ]
  },
  {
   "cell_type": "code",
   "execution_count": null,
   "id": "5151ac49",
   "metadata": {},
   "outputs": [],
   "source": [
    "file='/save/SOFA_SCORE_Cardiovascular.csv'\n",
    "SOFA_SCORE_Cardiovascular=pd.read_csv(file, sep=',', encoding='CP949')"
   ]
  },
  {
   "cell_type": "code",
   "execution_count": null,
   "id": "1f5d7dd9",
   "metadata": {},
   "outputs": [],
   "source": [
    "SOFA_SCORE_Cardiovascular['Cardiovascular_score'].value_counts()"
   ]
  },
  {
   "cell_type": "markdown",
   "id": "371b667d",
   "metadata": {},
   "source": [
    "### 3. Central nervous system score"
   ]
  },
  {
   "cell_type": "code",
   "execution_count": null,
   "id": "8fd0440b",
   "metadata": {},
   "outputs": [],
   "source": [
    "file='/save/SOFA_SCORE_GCS.csv'\n",
    "SOFA_SCORE_GCS=pd.read_csv(file, sep=',', encoding='CP949')\n",
    "SOFA_SCORE_GCS['GCS_score'].value_counts()"
   ]
  },
  {
   "cell_type": "markdown",
   "id": "9c72c4bb",
   "metadata": {},
   "source": [
    "### 4.Liver score"
   ]
  },
  {
   "cell_type": "code",
   "execution_count": null,
   "id": "0bd72167",
   "metadata": {},
   "outputs": [],
   "source": [
    "file='/save/SOFA_SCORE_Liver.csv'\n",
    "SOFA_SCORE_Liver=pd.read_csv(file, sep=',', encoding='CP949')\n",
    "SOFA_SCORE_Liver['Liver_socre'].value_counts()"
   ]
  },
  {
   "cell_type": "markdown",
   "id": "858832b5",
   "metadata": {},
   "source": [
    "### 5. Coagulation score"
   ]
  },
  {
   "cell_type": "code",
   "execution_count": null,
   "id": "b1990d8c",
   "metadata": {},
   "outputs": [],
   "source": [
    "file='/save/SOFA_SCORE_Coagulation.csv'\n",
    "SOFA_SCORE_Coagulation=pd.read_csv(file, sep=',', encoding='CP949')\n",
    "SOFA_SCORE_Coagulation['Coagulation_score'].value_counts()"
   ]
  },
  {
   "cell_type": "markdown",
   "id": "8fc3566e",
   "metadata": {},
   "source": [
    "### 6. Renal score"
   ]
  },
  {
   "cell_type": "code",
   "execution_count": null,
   "id": "80d5b034",
   "metadata": {},
   "outputs": [],
   "source": [
    "file='/save/SOFA_SCORE_Renal.csv'\n",
    "SOFA_SCORE_Renal=pd.read_csv(file, sep=',', encoding='CP949')\n",
    "SOFA_SCORE_Renal['Renal_socre'].value_counts()"
   ]
  },
  {
   "cell_type": "markdown",
   "id": "61ba5c0b",
   "metadata": {},
   "source": [
    "### SOFA SCORE 점수 합산"
   ]
  },
  {
   "cell_type": "code",
   "execution_count": null,
   "id": "be7a8fae",
   "metadata": {
    "scrolled": true
   },
   "outputs": [],
   "source": [
    "SOFA_SCORE_Respiratory=SOFA_SCORE_Respiratory[['subject_id','hadm_id','bp_group','Respiration_score']]\n",
    "SOFA_SCORE_Cardiovascular=SOFA_SCORE_Cardiovascular[['subject_id','Cardiovascular_score']]\n",
    "merge_1=pd.merge(SOFA_SCORE_Respiratory,SOFA_SCORE_Cardiovascular,how='outer',on='subject_id')\n",
    "merge_1= merge_1.replace({np.nan:0})\n",
    "merge_1"
   ]
  },
  {
   "cell_type": "code",
   "execution_count": null,
   "id": "9db899ad",
   "metadata": {},
   "outputs": [],
   "source": [
    "merge_2 = pd.merge(merge_1,SOFA_SCORE_GCS[['subject_id','GCS_score']],how='outer',on='subject_id')\n",
    "\n",
    "merge_3= pd.merge(merge_2,SOFA_SCORE_Liver[['subject_id','Liver_socre']],how='outer',on='subject_id')\n",
    "\n",
    "merge_4= pd.merge(merge_3,SOFA_SCORE_Coagulation[['subject_id','Coagulation_score']],how='outer',on='subject_id')\n",
    "\n",
    "merge_5= pd.merge(merge_4,SOFA_SCORE_Renal[['subject_id','Renal_socre']],how='outer',on='subject_id')\n",
    "merge_5= merge_5.replace({np.nan:0})\n",
    "\n",
    "\n",
    "merge_5.loc[:,'total'] = merge_5.loc[:,'Respiration_score':'Renal_socre'].sum(axis=1)\n",
    "merge_5"
   ]
  },
  {
   "cell_type": "code",
   "execution_count": null,
   "id": "c916e74f",
   "metadata": {},
   "outputs": [],
   "source": [
    "merge_5.to_csv(('SOFA_SCORE_TOTAL.csv'), index=False)"
   ]
  },
  {
   "cell_type": "code",
   "execution_count": null,
   "id": "33cf075b",
   "metadata": {},
   "outputs": [],
   "source": []
  }
 ],
 "metadata": {
  "kernelspec": {
   "display_name": "Python 3 (ipykernel)",
   "language": "python",
   "name": "python3"
  },
  "language_info": {
   "codemirror_mode": {
    "name": "ipython",
    "version": 3
   },
   "file_extension": ".py",
   "mimetype": "text/x-python",
   "name": "python",
   "nbconvert_exporter": "python",
   "pygments_lexer": "ipython3",
   "version": "3.8.10"
  }
 },
 "nbformat": 4,
 "nbformat_minor": 5
}
