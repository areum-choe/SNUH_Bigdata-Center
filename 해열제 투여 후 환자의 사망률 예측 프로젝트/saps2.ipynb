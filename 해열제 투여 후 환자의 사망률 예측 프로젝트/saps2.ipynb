{
 "cells": [
  {
   "cell_type": "markdown",
   "id": "1e3dd3ce",
   "metadata": {},
   "source": [
    "### 1. age_score"
   ]
  },
  {
   "cell_type": "code",
   "execution_count": null,
   "id": "684b10d1",
   "metadata": {},
   "outputs": [],
   "source": [
    "import pandas as pd\n",
    "file='/save/saps2_file/mimic_m2_case2_p_age.csv'\n",
    "age=pd.read_csv(file, sep=',', encoding='CP949')\n",
    "age"
   ]
  },
  {
   "cell_type": "code",
   "execution_count": null,
   "id": "b94a084d",
   "metadata": {},
   "outputs": [],
   "source": [
    "age= age.replace({np.nan:None})\n",
    "\n",
    "def age_score(table):\n",
    "\n",
    "     # age_score\n",
    "    for i, row in table.iterrows():\n",
    "        if table.at[i,'age'] == None:\n",
    "            table.at[i,'age_score'] = None\n",
    "        elif table.at[i,'age'] >= 80: \n",
    "            table.at[i,'age_score']= 18\n",
    "        elif table.at[i,'age'] >= 75:\n",
    "            table.at[i,'age_score']= 16\n",
    "        elif table.at[i,'age'] >= 70:\n",
    "            table.at[i,'age_score']= 15\n",
    "        elif table.at[i,'age'] >= 60:\n",
    "            table.at[i,'age_score']= 12\n",
    "        elif table.at[i,'age'] >= 40:\n",
    "            table.at[i,'age_score']= 7\n",
    "        else:\n",
    "            table.at[i,'age_score']= 0\n",
    "age_score(age)\n",
    "age"
   ]
  },
  {
   "cell_type": "code",
   "execution_count": null,
   "id": "18bf02f9",
   "metadata": {},
   "outputs": [],
   "source": [
    "age.to_csv(('SAPS2_SCORE_age.csv'), index=False)"
   ]
  },
  {
   "cell_type": "markdown",
   "id": "8efa85be",
   "metadata": {},
   "source": [
    "### 2. vital_score"
   ]
  },
  {
   "cell_type": "code",
   "execution_count": null,
   "id": "0d589f6f",
   "metadata": {},
   "outputs": [],
   "source": [
    "import pandas as pd\n",
    "file='/save/saps2_file/mimic_m2_case2_p_vital.csv'\n",
    "vital=pd.read_csv(file, sep=',', encoding='CP949')\n",
    "vital"
   ]
  },
  {
   "cell_type": "code",
   "execution_count": null,
   "id": "9999f0cd",
   "metadata": {},
   "outputs": [],
   "source": [
    "vital= vital.replace({np.nan:None})\n",
    "\n",
    "def vital_score(table):\n",
    "\n",
    "    # heart_rate_score\n",
    "    for i, row in table.iterrows():\n",
    "        if table.at[i,'hr'] == None:\n",
    "            table.at[i,'heart_rate_score'] = None\n",
    "        elif table.at[i,'hr'] < 40: \n",
    "            table.at[i,'heart_rate_score']= 11\n",
    "        elif table.at[i,'hr'] <= 69:\n",
    "            table.at[i,'heart_rate_score']= 2\n",
    "        elif table.at[i,'hr'] <= 119:\n",
    "            table.at[i,'heart_rate_score']= 0\n",
    "        elif table.at[i,'hr'] <= 159:\n",
    "            table.at[i,'heart_rate_score']= 4\n",
    "        else:\n",
    "            table.at[i,'heart_rate_score']= 7\n",
    "            \n",
    "    \n",
    "    # bp_score\n",
    "    for i, row in table.iterrows():\n",
    "        if table.at[i,'sbp'] == None:\n",
    "            table.at[i,'sbp_score'] = None\n",
    "        elif table.at[i,'sbp'] < 70: \n",
    "            table.at[i,'sbp_score']= 13\n",
    "        elif table.at[i,'sbp'] <= 99:\n",
    "            table.at[i,'sbp_score']= 5\n",
    "        elif table.at[i,'sbp'] <= 199:\n",
    "            table.at[i,'sbp_score']= 0\n",
    "        else:\n",
    "            table.at[i,'sbp_score']= 2\n",
    "            \n",
    "    # temperate_score\n",
    "    for i, row in table.iterrows():\n",
    "        if table.at[i,'tem'] == None:\n",
    "            table.at[i,'temperate_score'] = None\n",
    "        elif table.at[i,'tem'] >= 39: \n",
    "            table.at[i,'temperate_score']= 3\n",
    "        else:\n",
    "            table.at[i,'temperate_score']= 0\n",
    "\n",
    "    # gcs_score\n",
    "    for i, row in table.iterrows():\n",
    "        if table.at[i,'gcs'] == None:\n",
    "            table.at[i,'gcs_score'] = None\n",
    "        elif table.at[i,'gcs'] >= 14: \n",
    "            table.at[i,'gcs_score']= 0\n",
    "        elif table.at[i,'gcs'] >= 11: \n",
    "            table.at[i,'gcs_score']= 5\n",
    "        elif table.at[i,'gcs'] >= 9: \n",
    "            table.at[i,'gcs_score']= 7\n",
    "        elif table.at[i,'gcs'] >= 6: \n",
    "            table.at[i,'gcs_score']= 13\n",
    "        else:\n",
    "            table.at[i,'gcs_score']= 26\n",
    "            \n",
    "    table.loc[:,'vital_score'] = table.loc[:,'heart_rate_score':'gcs_score'].sum(axis=1)\n",
    "vital_score(vital)\n",
    "vital"
   ]
  },
  {
   "cell_type": "code",
   "execution_count": null,
   "id": "3edc702d",
   "metadata": {},
   "outputs": [],
   "source": [
    "vital.to_csv(('SAPS2_SCORE_vital.csv'), index=False)"
   ]
  },
  {
   "cell_type": "markdown",
   "id": "9e37fbcc",
   "metadata": {},
   "source": [
    "### 3. Oxygenation_score"
   ]
  },
  {
   "cell_type": "code",
   "execution_count": null,
   "id": "bca91222",
   "metadata": {},
   "outputs": [],
   "source": [
    "import pandas as pd\n",
    "file='/save/saps2_file/mimic_m2_case2_p_oxygenation.csv'\n",
    "Oxygenation=pd.read_csv(file, sep=',', encoding='CP949')\n",
    "Oxygenation"
   ]
  },
  {
   "cell_type": "code",
   "execution_count": null,
   "id": "2a4693dc",
   "metadata": {},
   "outputs": [],
   "source": [
    "# Oxygenation= Oxygenation.replace({np.nan:None})\n",
    "\n",
    "# def Oxygenation_score(table):\n",
    "\n",
    "#     # Oxygenation_score\n",
    "#     for i, row in table.iterrows():\n",
    "#         if table.at[i,'vent'] == 'Ventilation' or table.at[i,'cpap'] =='ON':\n",
    "#             if table.at[i,'Oxygenation'] == None:\n",
    "#                 table.at[i,'Oxygenation_score'] = None\n",
    "#             elif table.at[i,'Oxygenation'] < 100: \n",
    "#                 table.at[i,'Oxygenation_score']= 11\n",
    "#             elif table.at[i,'Oxygenation'] <= 199:\n",
    "#                 table.at[i,'Oxygenation_score']= 9\n",
    "#             else:\n",
    "#                 table.at[i,'Oxygenation_score']= 6\n",
    "#         else:\n",
    "#             table.at[i,'Oxygenation_score']= 0\n",
    "# Oxygenation_score(Oxygenation)\n",
    "\n",
    "\n",
    "# Oxygenation= Oxygenation.replace({np.nan:None})\n",
    "\n",
    "def Oxygenation_score(table):\n",
    "\n",
    "    # Oxygenation_score\n",
    "    for i, row in table.iterrows():\n",
    "        if table.at[i,'vent'] == 'Ventilation' or table.at[i,'cpap'] =='ON':\n",
    "            table.at[i,'Oxygenation_score'] = None\n",
    "        else:\n",
    "            table.at[i,'Oxygenation_score'] = 0\n",
    "Oxygenation_score(Oxygenation)"
   ]
  },
  {
   "cell_type": "code",
   "execution_count": null,
   "id": "a03e3273",
   "metadata": {},
   "outputs": [],
   "source": [
    "Oxygenation.to_csv(('SAPS2_SCORE_Oxygenation.csv'), index=False)"
   ]
  },
  {
   "cell_type": "markdown",
   "id": "3e440461",
   "metadata": {},
   "source": [
    "### 4. Renal_score"
   ]
  },
  {
   "cell_type": "code",
   "execution_count": null,
   "id": "42ac63ad",
   "metadata": {},
   "outputs": [],
   "source": [
    "import pandas as pd\n",
    "file='/save/saps2_file/mimic_m2_case2_p_renal.csv'\n",
    "Renal=pd.read_csv(file, sep=',', encoding='CP949')"
   ]
  },
  {
   "cell_type": "code",
   "execution_count": null,
   "id": "40f4621c",
   "metadata": {},
   "outputs": [],
   "source": [
    "Renal= Renal.replace({np.nan:None})\n",
    "\n",
    "def Renal_score(table):\n",
    "    \n",
    "    # Renal_score\n",
    "    for i, row in table.iterrows():\n",
    "        if table.at[i,'bun'] == None:\n",
    "            if table.at[i,'uric_acid'] == None:\n",
    "                table.at[i,'Renal_score'] = None\n",
    "        else:\n",
    "            table['uric_acid'] = table['uric_acid'].fillna(0)\n",
    "            if table.at[i,'bun'] < 28 or (table.at[i,'uric_acid'] >= 1 and table.at[i,'uric_acid'] < 10) :\n",
    "                table.at[i,'Renal_score'] = 0\n",
    "            elif table.at[i,'bun'] <= 83 or (table.at[i,'uric_acid'] >= 1 and table.at[i,'uric_acid'] < 30) :\n",
    "                table.at[i,'Renal_score']= 6\n",
    "            elif table.at[i,'bun'] >= 84 or (table.at[i,'uric_acid'] >= 1 and table.at[i,'uric_acid'] >= 30) :\n",
    "                table.at[i,'Renal_score']= 10\n",
    "            else:\n",
    "                table.at[i,'Renal_score']= 0\n",
    "Renal_score(Renal)\n",
    "Renal"
   ]
  },
  {
   "cell_type": "code",
   "execution_count": null,
   "id": "4b07497f",
   "metadata": {},
   "outputs": [],
   "source": [
    "Renal.to_csv(('SAPS2_SCORE_Renal.csv'), index=False)"
   ]
  },
  {
   "cell_type": "markdown",
   "id": "c5a3e702",
   "metadata": {},
   "source": [
    "### 5. Chemistry_score"
   ]
  },
  {
   "cell_type": "code",
   "execution_count": null,
   "id": "56dfa0aa",
   "metadata": {},
   "outputs": [],
   "source": [
    "import pandas as pd\n",
    "file='/save/saps2_file/mimic_m2_case2_p_chemistry.csv'\n",
    "chemistry=pd.read_csv(file, sep=',', encoding='CP949')"
   ]
  },
  {
   "cell_type": "code",
   "execution_count": null,
   "id": "2fad3309",
   "metadata": {},
   "outputs": [],
   "source": [
    "chemistry= chemistry.replace({np.nan:None})\n",
    "\n",
    "def chemistry_score(table):\n",
    "\n",
    "    # chemistry_score\n",
    "    for i, row in table.iterrows():\n",
    "        if table.at[i,'na'] == None:\n",
    "            table.at[i,'sodium_score'] = None\n",
    "        elif table.at[i,'na'] < 125:\n",
    "            table.at[i,'sodium_score'] = 5\n",
    "        elif table.at[i,'na'] < 144:\n",
    "            table.at[i,'sodium_score'] = 0\n",
    "        else:\n",
    "            table.at[i,'sodium_score'] = 1\n",
    "            \n",
    "    # potassium_score\n",
    "    for i, row in table.iterrows():\n",
    "        if table.at[i,'po'] == None:\n",
    "            table.at[i,'potassium_score'] = None\n",
    "        elif table.at[i,'po'] < 3:\n",
    "            table.at[i,'potassium_score'] = 3\n",
    "        elif table.at[i,'po'] < 5:\n",
    "            table.at[i,'potassium_score'] = 0\n",
    "        else:\n",
    "            table.at[i,'potassium_score'] = 3\n",
    "            \n",
    "    # bicarbonate_score\n",
    "    for i, row in table.iterrows():\n",
    "        if table.at[i,'bic'] == None:\n",
    "            table.at[i,'bicarbonate_score'] = None\n",
    "        elif table.at[i,'bic'] < 15:\n",
    "            table.at[i,'bicarbonate_score'] = 6\n",
    "        elif table.at[i,'bic'] < 20:\n",
    "            table.at[i,'bicarbonate_score'] = 3\n",
    "        else:\n",
    "            table.at[i,'bicarbonate_score'] = 0\n",
    "            \n",
    "    # billirubin_score\n",
    "    for i, row in table.iterrows():\n",
    "        if table.at[i,'bil'] == None:\n",
    "            table.at[i,'billirubin_score'] = None\n",
    "        elif table.at[i,'bil'] < 4:\n",
    "            table.at[i,'billirubin_score'] = 0\n",
    "        elif table.at[i,'bil'] < 6:\n",
    "            table.at[i,'billirubin_score'] = 4\n",
    "        else:\n",
    "            table.at[i,'billirubin_score'] = 9\n",
    "            \n",
    "    table.loc[:,'chemistry_score'] = table.loc[:,'sodium_score':'billirubin_score'].sum(axis=1)\n",
    "    \n",
    "chemistry_score(chemistry)\n",
    "chemistry"
   ]
  },
  {
   "cell_type": "code",
   "execution_count": null,
   "id": "eaf4b2f9",
   "metadata": {},
   "outputs": [],
   "source": [
    "chemistry.to_csv(('SAPS2_SCORE_chemistry.csv'), index=False)"
   ]
  },
  {
   "cell_type": "markdown",
   "id": "3e58fe57",
   "metadata": {},
   "source": [
    "### 6. other_score"
   ]
  },
  {
   "cell_type": "code",
   "execution_count": null,
   "id": "ce85c7a4",
   "metadata": {},
   "outputs": [],
   "source": [
    "import pandas as pd\n",
    "file='/save/saps2_file/mimic_m2_case2_p_other.csv'\n",
    "other=pd.read_csv(file, sep=',', encoding='CP949')"
   ]
  },
  {
   "cell_type": "code",
   "execution_count": null,
   "id": "a574825c",
   "metadata": {},
   "outputs": [],
   "source": [
    "other"
   ]
  },
  {
   "cell_type": "code",
   "execution_count": null,
   "id": "f9f99ab0",
   "metadata": {},
   "outputs": [],
   "source": [
    "other= other.replace({np.nan:None})\n",
    "\n",
    "def other_score(table):\n",
    "\n",
    "    # wbc_score\n",
    "    for i, row in table.iterrows():\n",
    "        if table.at[i,'wbc'] == None:\n",
    "            table.at[i,'wbc_score'] = None\n",
    "        elif table.at[i,'wbc'] < 1:\n",
    "            table.at[i,'wbc_score'] = 12\n",
    "        elif table.at[i,'wbc'] < 20:\n",
    "            table.at[i,'wbc_score'] = 0\n",
    "        else:\n",
    "            table.at[i,'wbc_score'] = 3\n",
    "            \n",
    "    # chronic_score\n",
    "    for i, row in table.iterrows():\n",
    "        if table.at[i,'metastatic_cancer'] == 'yes':\n",
    "            table.at[i,'chronic_score'] = 9\n",
    "        elif table.at[i,'hematologic_malignancy']  == 'yes':\n",
    "            table.at[i,'chronic_score'] = 10\n",
    "        else:\n",
    "            table.at[i,'chronic_score'] = 0\n",
    "\n",
    "    # sugery_score\n",
    "    for i, row in table.iterrows():\n",
    "        if table.at[i,'surgery'] == None:\n",
    "            table.at[i,'surgery_score'] = None\n",
    "        elif table.at[i,'surgery']  == 'unscheduled':\n",
    "            table.at[i,'surgery_score'] = 8\n",
    "        else:\n",
    "            table.at[i,'surgery_score'] = 0\n",
    "    \n",
    "    table.loc[:,'other_score'] = table.loc[:,'sodium_score':'surgery_score'].sum(axis=1)\n",
    "            \n",
    "other_score(other)\n",
    "other"
   ]
  },
  {
   "cell_type": "code",
   "execution_count": null,
   "id": "c2849599",
   "metadata": {},
   "outputs": [],
   "source": [
    "other.to_csv(('SAPS2_SCORE_other.csv'), index=False)"
   ]
  },
  {
   "cell_type": "markdown",
   "id": "5904714a",
   "metadata": {},
   "source": [
    "## SAPS2_SCORE details"
   ]
  },
  {
   "cell_type": "markdown",
   "id": "36114635",
   "metadata": {},
   "source": [
    "### 1.age score"
   ]
  },
  {
   "cell_type": "code",
   "execution_count": null,
   "id": "2d6791f7",
   "metadata": {},
   "outputs": [],
   "source": [
    "file='/save/SAPS2_SCORE_age.csv'\n",
    "SAPS2_SCORE_age=pd.read_csv(file, sep=',', encoding='CP949')\n",
    "SAPS2_SCORE_age['age_score'].value_counts()"
   ]
  },
  {
   "cell_type": "markdown",
   "id": "0154ffd9",
   "metadata": {},
   "source": [
    "### 2.vitalscore"
   ]
  },
  {
   "cell_type": "code",
   "execution_count": null,
   "id": "b11eabda",
   "metadata": {},
   "outputs": [],
   "source": [
    "file='/save/SAPS2_SCORE_vital.csv'\n",
    "SAPS2_SCORE_vital=pd.read_csv(file, sep=',', encoding='CP949')\n",
    "SAPS2_SCORE_vital['heart_rate_score'].value_counts()"
   ]
  },
  {
   "cell_type": "code",
   "execution_count": null,
   "id": "d7517fcc",
   "metadata": {},
   "outputs": [],
   "source": [
    "SAPS2_SCORE_vital['sbp_score'].value_counts()"
   ]
  },
  {
   "cell_type": "code",
   "execution_count": null,
   "id": "090d784b",
   "metadata": {},
   "outputs": [],
   "source": [
    "SAPS2_SCORE_vital['temperate_score'].value_counts()"
   ]
  },
  {
   "cell_type": "code",
   "execution_count": null,
   "id": "8664e690",
   "metadata": {},
   "outputs": [],
   "source": [
    "SAPS2_SCORE_vital['gcs_score'].value_counts()"
   ]
  },
  {
   "cell_type": "markdown",
   "id": "cdf7c809",
   "metadata": {},
   "source": [
    "### 3.Renal score"
   ]
  },
  {
   "cell_type": "code",
   "execution_count": null,
   "id": "2ab6cf4e",
   "metadata": {},
   "outputs": [],
   "source": [
    "file='/save/SAPS2_SCORE_renal.csv'\n",
    "SAPS2_SCORE_renal=pd.read_csv(file, sep=',', encoding='CP949')\n",
    "SAPS2_SCORE_renal['Renal_score'].value_counts()"
   ]
  },
  {
   "cell_type": "markdown",
   "id": "a687f20e",
   "metadata": {},
   "source": [
    "### 4.chemistry score"
   ]
  },
  {
   "cell_type": "code",
   "execution_count": null,
   "id": "f4cad664",
   "metadata": {},
   "outputs": [],
   "source": [
    "file='/save/SAPS2_SCORE_chemistry.csv'\n",
    "SAPS2_SCORE_chemistry=pd.read_csv(file, sep=',', encoding='CP949')\n",
    "SAPS2_SCORE_chemistry['sodium_score'].value_counts()"
   ]
  },
  {
   "cell_type": "code",
   "execution_count": null,
   "id": "98a1c231",
   "metadata": {},
   "outputs": [],
   "source": [
    "SAPS2_SCORE_chemistry['potassium_score'].value_counts()"
   ]
  },
  {
   "cell_type": "code",
   "execution_count": null,
   "id": "26688fae",
   "metadata": {},
   "outputs": [],
   "source": [
    "SAPS2_SCORE_chemistry['bicarbonate_score'].value_counts()"
   ]
  },
  {
   "cell_type": "code",
   "execution_count": null,
   "id": "c95d2db3",
   "metadata": {},
   "outputs": [],
   "source": [
    "SAPS2_SCORE_chemistry['billirubin_score'].value_counts()"
   ]
  },
  {
   "cell_type": "markdown",
   "id": "86bf824b",
   "metadata": {},
   "source": [
    "### 5.other score"
   ]
  },
  {
   "cell_type": "code",
   "execution_count": null,
   "id": "40322d8f",
   "metadata": {
    "scrolled": true
   },
   "outputs": [],
   "source": [
    "file='/save/SAPS2_SCORE_other.csv'\n",
    "SAPS2_SCORE_other=pd.read_csv(file, sep=',', encoding='CP949')\n",
    "SAPS2_SCORE_other['wbc_score'].value_counts()"
   ]
  },
  {
   "cell_type": "code",
   "execution_count": null,
   "id": "123c40cf",
   "metadata": {},
   "outputs": [],
   "source": [
    "SAPS2_SCORE_other['chronic_score'].value_counts()"
   ]
  },
  {
   "cell_type": "code",
   "execution_count": null,
   "id": "e2e442e9",
   "metadata": {},
   "outputs": [],
   "source": [
    "SAPS2_SCORE_other['surgery_score'].value_counts()"
   ]
  },
  {
   "cell_type": "markdown",
   "id": "7e2eb363",
   "metadata": {},
   "source": [
    "### 6. Oxygenation score"
   ]
  },
  {
   "cell_type": "code",
   "execution_count": null,
   "id": "a5823d40",
   "metadata": {},
   "outputs": [],
   "source": [
    "file='/save/SAPS2_SCORE_Oxygenation.csv'\n",
    "SAPS2_SCORE_Oxygenation=pd.read_csv(file, sep=',', encoding='CP949')\n",
    "SAPS2_SCORE_Oxygenation['Oxygenation_score'].value_counts()"
   ]
  },
  {
   "cell_type": "code",
   "execution_count": null,
   "id": "38590b3d",
   "metadata": {},
   "outputs": [],
   "source": [
    "merge_1 = pd.merge(SAPS2_SCORE_age[['subject_id','hadm_id','bp_group','age_score']]\n",
    "                   ,SAPS2_SCORE_vital[['subject_id','vital_score']],how='outer',on='subject_id')\n",
    "merge_1 = pd.merge(merge_1\n",
    "                   ,SAPS2_SCORE_renal[['subject_id','Renal_score']],how='outer',on='subject_id')\n",
    "merge_1 = pd.merge(merge_1\n",
    "                   ,SAPS2_SCORE_chemistry[['subject_id','chemistry_score']],how='outer',on='subject_id')\n",
    "merge_1 = pd.merge(merge_1\n",
    "                   ,SAPS2_SCORE_other[['subject_id','other_score']],how='outer',on='subject_id')\n",
    "merge_1 = pd.merge(merge_1\n",
    "                   ,SAPS2_SCORE_Oxygenation[['subject_id','Oxygenation_score']],how='outer',on='subject_id')\n",
    "\n",
    "merge_1= merge_1.replace({np.nan:0})\n",
    "\n",
    "merge_1.loc[:,'total'] = merge_1.loc[:,'age_score':'Oxygenation_score'].sum(axis=1)\n",
    "merge_1"
   ]
  },
  {
   "cell_type": "code",
   "execution_count": null,
   "id": "39eb3c8f",
   "metadata": {},
   "outputs": [],
   "source": [
    "merge_1.to_csv(('SAPS2_SCORE_TOTAL.csv'), index=False)"
   ]
  },
  {
   "cell_type": "code",
   "execution_count": null,
   "id": "529fd62b",
   "metadata": {},
   "outputs": [],
   "source": []
  }
 ],
 "metadata": {
  "kernelspec": {
   "display_name": "Python 3 (ipykernel)",
   "language": "python",
   "name": "python3"
  },
  "language_info": {
   "codemirror_mode": {
    "name": "ipython",
    "version": 3
   },
   "file_extension": ".py",
   "mimetype": "text/x-python",
   "name": "python",
   "nbconvert_exporter": "python",
   "pygments_lexer": "ipython3",
   "version": "3.8.10"
  }
 },
 "nbformat": 4,
 "nbformat_minor": 5
}
